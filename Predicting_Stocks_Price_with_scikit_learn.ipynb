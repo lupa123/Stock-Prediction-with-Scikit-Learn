{
  "nbformat": 4,
  "nbformat_minor": 0,
  "metadata": {
    "colab": {
      "name": "Predicting Stocks Price with scikit-learn.ipynb",
      "version": "0.3.2",
      "provenance": [],
      "include_colab_link": true
    },
    "kernelspec": {
      "name": "python3",
      "display_name": "Python 3"
    }
  },
  "cells": [
    {
      "cell_type": "markdown",
      "metadata": {
        "id": "view-in-github",
        "colab_type": "text"
      },
      "source": [
        "<a href=\"https://colab.research.google.com/github/lupa123/Stock-Prediction-with-Scikit-Learn/blob/master/Predicting_Stocks_Price_with_scikit_learn.ipynb\" target=\"_parent\"><img src=\"https://colab.research.google.com/assets/colab-badge.svg\" alt=\"Open In Colab\"/></a>"
      ]
    },
    {
      "cell_type": "code",
      "metadata": {
        "id": "YHHecG9GPae5",
        "colab_type": "code",
        "colab": {}
      },
      "source": [
        "import pandas as pd\n",
        "import datetime\n",
        "import pandas_datareader.data as web\n",
        "from pandas import Series, DataFrame\n",
        "from sklearn.linear_model import LinearRegression\n",
        "from sklearn.neighbors import KNeighborsRegressor\n",
        "from sklearn import preprocessing\n",
        "from sklearn.linear_model import Ridge\n",
        "from sklearn.preprocessing import PolynomialFeatures\n",
        "from sklearn.pipeline import make_pipeline\n",
        "import math\n",
        "import numpy as np\n",
        "import matplotlib.pyplot as plt\n",
        "from matplotlib import style\n",
        "from sklearn.model_selection import train_test_split\n",
        "from sklearn import linear_model"
      ],
      "execution_count": 0,
      "outputs": []
    },
    {
      "cell_type": "code",
      "metadata": {
        "id": "3VIxyYQ2PwkO",
        "colab_type": "code",
        "colab": {
          "base_uri": "https://localhost:8080/",
          "height": 225
        },
        "outputId": "83352309-b650-440f-f2ca-6eb8b1a3c510"
      },
      "source": [
        "# extract Apple Stocks Price\n",
        "start = datetime.datetime(2010, 1, 1)\n",
        "end = datetime.datetime(2019, 9, 4)\n",
        "df = web.DataReader(\"AAPL\", 'yahoo', start, end)\n",
        "df.tail()"
      ],
      "execution_count": 17,
      "outputs": [
        {
          "output_type": "execute_result",
          "data": {
            "text/html": [
              "<div>\n",
              "<style scoped>\n",
              "    .dataframe tbody tr th:only-of-type {\n",
              "        vertical-align: middle;\n",
              "    }\n",
              "\n",
              "    .dataframe tbody tr th {\n",
              "        vertical-align: top;\n",
              "    }\n",
              "\n",
              "    .dataframe thead th {\n",
              "        text-align: right;\n",
              "    }\n",
              "</style>\n",
              "<table border=\"1\" class=\"dataframe\">\n",
              "  <thead>\n",
              "    <tr style=\"text-align: right;\">\n",
              "      <th></th>\n",
              "      <th>High</th>\n",
              "      <th>Low</th>\n",
              "      <th>Open</th>\n",
              "      <th>Close</th>\n",
              "      <th>Volume</th>\n",
              "      <th>Adj Close</th>\n",
              "    </tr>\n",
              "    <tr>\n",
              "      <th>Date</th>\n",
              "      <th></th>\n",
              "      <th></th>\n",
              "      <th></th>\n",
              "      <th></th>\n",
              "      <th></th>\n",
              "      <th></th>\n",
              "    </tr>\n",
              "  </thead>\n",
              "  <tbody>\n",
              "    <tr>\n",
              "      <th>2019-08-28</th>\n",
              "      <td>205.720001</td>\n",
              "      <td>203.320007</td>\n",
              "      <td>204.100006</td>\n",
              "      <td>205.529999</td>\n",
              "      <td>15938800.0</td>\n",
              "      <td>205.529999</td>\n",
              "    </tr>\n",
              "    <tr>\n",
              "      <th>2019-08-29</th>\n",
              "      <td>209.320007</td>\n",
              "      <td>206.660004</td>\n",
              "      <td>208.500000</td>\n",
              "      <td>209.009995</td>\n",
              "      <td>20990500.0</td>\n",
              "      <td>209.009995</td>\n",
              "    </tr>\n",
              "    <tr>\n",
              "      <th>2019-08-30</th>\n",
              "      <td>210.449997</td>\n",
              "      <td>207.199997</td>\n",
              "      <td>210.160004</td>\n",
              "      <td>208.740005</td>\n",
              "      <td>21143400.0</td>\n",
              "      <td>208.740005</td>\n",
              "    </tr>\n",
              "    <tr>\n",
              "      <th>2019-09-03</th>\n",
              "      <td>206.979996</td>\n",
              "      <td>204.220001</td>\n",
              "      <td>206.429993</td>\n",
              "      <td>205.699997</td>\n",
              "      <td>20023000.0</td>\n",
              "      <td>205.699997</td>\n",
              "    </tr>\n",
              "    <tr>\n",
              "      <th>2019-09-04</th>\n",
              "      <td>209.470200</td>\n",
              "      <td>207.320007</td>\n",
              "      <td>208.389999</td>\n",
              "      <td>209.055099</td>\n",
              "      <td>13261223.0</td>\n",
              "      <td>209.055099</td>\n",
              "    </tr>\n",
              "  </tbody>\n",
              "</table>\n",
              "</div>"
            ],
            "text/plain": [
              "                  High         Low  ...      Volume   Adj Close\n",
              "Date                                ...                        \n",
              "2019-08-28  205.720001  203.320007  ...  15938800.0  205.529999\n",
              "2019-08-29  209.320007  206.660004  ...  20990500.0  209.009995\n",
              "2019-08-30  210.449997  207.199997  ...  21143400.0  208.740005\n",
              "2019-09-03  206.979996  204.220001  ...  20023000.0  205.699997\n",
              "2019-09-04  209.470200  207.320007  ...  13261223.0  209.055099\n",
              "\n",
              "[5 rows x 6 columns]"
            ]
          },
          "metadata": {
            "tags": []
          },
          "execution_count": 17
        }
      ]
    },
    {
      "cell_type": "code",
      "metadata": {
        "id": "GVRuYLFiQPpK",
        "colab_type": "code",
        "colab": {}
      },
      "source": [
        "# Feature Engineering\n",
        "dfreg = df.loc[:,['Adj Close','Volume']]\n",
        "dfreg['HL_PCT'] = (df['High'] - df['Low']) / df['Close'] * 100.0\n",
        "dfreg['PCT_change'] = (df['Close'] - df['Open']) / df['Open'] * 100.0"
      ],
      "execution_count": 0,
      "outputs": []
    },
    {
      "cell_type": "code",
      "metadata": {
        "id": "Mw8-qX_rQjfx",
        "colab_type": "code",
        "colab": {}
      },
      "source": [
        "# Pre-processing & Cross Validation\n",
        "\n",
        "# Drop missing value\n",
        "dfreg.fillna(value=-99999, inplace=True)\n",
        "\n",
        "# We want to separate 1 percent of the data to forecast\n",
        "forecast_out = int(math.ceil(0.01 * len(dfreg)))\n",
        "\n",
        "# Separating the label here, we want to predict the AdjClose\n",
        "forecast_col = 'Adj Close'\n",
        "dfreg['label'] = dfreg[forecast_col].shift(-forecast_out)\n",
        "X = np.array(dfreg.drop(['label'], 1))\n",
        "\n",
        "# Scale the X so that everyone can have the same distribution for linear regression\n",
        "X = preprocessing.scale(X)\n",
        "\n",
        "# Finally We want to find Data Series of late X and early X (train) for model generation and evaluation\n",
        "X_forecast = X[-forecast_out:] \n",
        "X = X[:-forecast_out]\n",
        "\n",
        "# Separate label and identify it as y\n",
        "y = np.array(dfreg['label'])\n",
        "y = y[:-forecast_out]"
      ],
      "execution_count": 0,
      "outputs": []
    },
    {
      "cell_type": "code",
      "metadata": {
        "id": "tQTPnlemRwqG",
        "colab_type": "code",
        "colab": {}
      },
      "source": [
        "# Split data into train and test set\n",
        "x_train, x_test, y_train, y_test = train_test_split(X, y, test_size = 0.2 , random_state = 0)"
      ],
      "execution_count": 0,
      "outputs": []
    },
    {
      "cell_type": "code",
      "metadata": {
        "id": "QiLH4at4Sv1Q",
        "colab_type": "code",
        "outputId": "95f020bd-6212-47d6-c689-d9f19692e815",
        "colab": {
          "base_uri": "https://localhost:8080/",
          "height": 67
        }
      },
      "source": [
        " #Train the algorithm\n",
        "  \n",
        "# Linear regression\n",
        "clfreg = LinearRegression(n_jobs=-1)\n",
        "clfreg.fit(x_train, y_train)\n",
        "\n",
        "# Quadratic Regression 2\n",
        "clfpoly2 = make_pipeline(PolynomialFeatures(2), Ridge())\n",
        "clfpoly2.fit(x_train, y_train)\n",
        "\n",
        "# Quadratic Regression 3\n",
        "clfpoly3 = make_pipeline(PolynomialFeatures(3), Ridge())\n",
        "clfpoly3.fit(x_train, y_train)\n",
        "\n",
        "# KNN Regression\n",
        "clfknn = KNeighborsRegressor(n_neighbors=2)\n",
        "clfknn.fit(x_train, y_train)\n",
        "\n",
        "# Ridge Regression with built-in cross-validation of the alpha parameter\n",
        "ridgeCV = linear_model.RidgeCV(alphas=np.logspace(-6, 6, 13))\n",
        "ridgeCV.fit(x_train, y_train)\n",
        "\n",
        "# Lasso\n",
        "lasso = linear_model.Lasso(alpha=0.1)\n",
        "lasso.fit(x_train, y_train)\n",
        "\n",
        "# lasso model implemented using the LARS algorithm\n",
        "lassoLars = linear_model.LassoLars(alpha=.1)\n",
        "lassoLars.fit(x_train, y_train)"
      ],
      "execution_count": 0,
      "outputs": [
        {
          "output_type": "execute_result",
          "data": {
            "text/plain": [
              "LassoLars(alpha=0.1, copy_X=True, eps=2.220446049250313e-16, fit_intercept=True,\n",
              "          fit_path=True, max_iter=500, normalize=True, positive=False,\n",
              "          precompute='auto', verbose=False)"
            ]
          },
          "metadata": {
            "tags": []
          },
          "execution_count": 15
        }
      ]
    },
    {
      "cell_type": "code",
      "metadata": {
        "id": "oF0qUbIDUImh",
        "colab_type": "code",
        "outputId": "83671c89-a5ea-4257-b10d-dfd4c6e89386",
        "colab": {
          "base_uri": "https://localhost:8080/",
          "height": 134
        }
      },
      "source": [
        " #Evaluation\n",
        "  \n",
        "confidencereg = clfreg.score(x_test, y_test)\n",
        "confidencepoly2 = clfpoly2.score(x_test,y_test)\n",
        "confidencepoly3 = clfpoly3.score(x_test,y_test)\n",
        "confidenceknn = clfknn.score(x_test, y_test)\n",
        "confidenceRidgeCV = ridgeCV.score(x_test, y_test)\n",
        "confidenceLasso = lasso.score(x_test, y_test)\n",
        "confidenceLassoLars = lassoLars.score(x_test, y_test)\n",
        "print('The linear regression confidence is ', confidencereg)\n",
        "print('The quadratic regression 2 confidence is ', confidencepoly2)\n",
        "print('The quadratic regression 3 confidence is ', confidencepoly3)\n",
        "print('The knn regression confidence is ', confidenceknn)\n",
        "print('The Ridge Regression confidence is ', confidenceRidgeCV)\n",
        "print('The Lasso confidence is ', confidenceLasso)\n",
        "print('The LassoLars confidence is ', confidenceLassoLars)"
      ],
      "execution_count": 0,
      "outputs": [
        {
          "output_type": "stream",
          "text": [
            "The linear regression confidence is  0.9627384062967468\n",
            "The quadratic regression 2 confidence is  0.9653656605554309\n",
            "The quadratic regression 3 confidence is  0.9663035094805398\n",
            "The knn regression confidence is  0.9445368629480068\n",
            "The Ridge Regression confidence is  0.962741011614956\n",
            "The Lasso confidence is  0.9628027741517736\n",
            "The LassoLars confidence is  0.9562733342819544\n"
          ],
          "name": "stdout"
        }
      ]
    },
    {
      "cell_type": "code",
      "metadata": {
        "id": "1wc28x1NUeoj",
        "colab_type": "code",
        "outputId": "4c879827-5f8b-485e-d962-cef0909848e9",
        "colab": {
          "base_uri": "https://localhost:8080/",
          "height": 281
        }
      },
      "source": [
        " #Plotting the Prediction\n",
        "forecast_set = clfpoly3.predict(X_forecast)\n",
        "dfreg['Forecast'] = np.nan\n",
        "last_date = dfreg.iloc[-1].name\n",
        "last_unix = last_date\n",
        "next_unix = last_unix + datetime.timedelta(days=1)\n",
        "\n",
        "for i in forecast_set:\n",
        "    next_date = next_unix\n",
        "    next_unix += datetime.timedelta(days=1)\n",
        "    dfreg.loc[next_date] = [np.nan for _ in range(len(dfreg.columns)-1)]+[i]\n",
        "    \n",
        "    \n",
        "dfreg['Adj Close'].tail(500).plot()\n",
        "dfreg['Forecast'].tail(500).plot()\n",
        "plt.legend(loc=4)\n",
        "plt.xlabel('Date')\n",
        "plt.ylabel('Price')\n",
        "plt.show()"
      ],
      "execution_count": 0,
      "outputs": [
        {
          "output_type": "display_data",
          "data": {
            "image/png": "[encoded data removed]",
            "text/plain": [
              "<Figure size 432x288 with 1 Axes>"
            ]
          },
          "metadata": {
            "tags": []
          }
        }
      ]
    }
  ]
}